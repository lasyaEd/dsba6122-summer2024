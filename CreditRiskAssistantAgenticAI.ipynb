{
  "nbformat": 4,
  "nbformat_minor": 0,
  "metadata": {
    "colab": {
      "provenance": [],
      "authorship_tag": "ABX9TyMvZ5lXE1EOaCZIMTYWodRj",
      "include_colab_link": true
    },
    "kernelspec": {
      "name": "python3",
      "display_name": "Python 3"
    },
    "language_info": {
      "name": "python"
    }
  },
  "cells": [
    {
      "cell_type": "markdown",
      "metadata": {
        "id": "view-in-github",
        "colab_type": "text"
      },
      "source": [
        "<a href=\"https://colab.research.google.com/github/lasyaEd/dsba6122-summer2024/blob/main/CreditRiskAssistantAgenticAI.ipynb\" target=\"_parent\"><img src=\"https://colab.research.google.com/assets/colab-badge.svg\" alt=\"Open In Colab\"/></a>"
      ]
    },
    {
      "cell_type": "code",
      "execution_count": 1,
      "metadata": {
        "colab": {
          "base_uri": "https://localhost:8080/"
        },
        "id": "9lNr_X1jQQqQ",
        "outputId": "a4ec0ce9-5d4b-49b1-f3de-2b33d290494d"
      },
      "outputs": [
        {
          "output_type": "stream",
          "name": "stdout",
          "text": [
            "Requirement already satisfied: pandas in /usr/local/lib/python3.11/dist-packages (2.2.2)\n",
            "Requirement already satisfied: openai in /usr/local/lib/python3.11/dist-packages (1.97.1)\n",
            "Requirement already satisfied: numpy>=1.23.2 in /usr/local/lib/python3.11/dist-packages (from pandas) (2.0.2)\n",
            "Requirement already satisfied: python-dateutil>=2.8.2 in /usr/local/lib/python3.11/dist-packages (from pandas) (2.9.0.post0)\n",
            "Requirement already satisfied: pytz>=2020.1 in /usr/local/lib/python3.11/dist-packages (from pandas) (2025.2)\n",
            "Requirement already satisfied: tzdata>=2022.7 in /usr/local/lib/python3.11/dist-packages (from pandas) (2025.2)\n",
            "Requirement already satisfied: anyio<5,>=3.5.0 in /usr/local/lib/python3.11/dist-packages (from openai) (4.9.0)\n",
            "Requirement already satisfied: distro<2,>=1.7.0 in /usr/local/lib/python3.11/dist-packages (from openai) (1.9.0)\n",
            "Requirement already satisfied: httpx<1,>=0.23.0 in /usr/local/lib/python3.11/dist-packages (from openai) (0.28.1)\n",
            "Requirement already satisfied: jiter<1,>=0.4.0 in /usr/local/lib/python3.11/dist-packages (from openai) (0.10.0)\n",
            "Requirement already satisfied: pydantic<3,>=1.9.0 in /usr/local/lib/python3.11/dist-packages (from openai) (2.11.7)\n",
            "Requirement already satisfied: sniffio in /usr/local/lib/python3.11/dist-packages (from openai) (1.3.1)\n",
            "Requirement already satisfied: tqdm>4 in /usr/local/lib/python3.11/dist-packages (from openai) (4.67.1)\n",
            "Requirement already satisfied: typing-extensions<5,>=4.11 in /usr/local/lib/python3.11/dist-packages (from openai) (4.14.1)\n",
            "Requirement already satisfied: idna>=2.8 in /usr/local/lib/python3.11/dist-packages (from anyio<5,>=3.5.0->openai) (3.10)\n",
            "Requirement already satisfied: certifi in /usr/local/lib/python3.11/dist-packages (from httpx<1,>=0.23.0->openai) (2025.7.14)\n",
            "Requirement already satisfied: httpcore==1.* in /usr/local/lib/python3.11/dist-packages (from httpx<1,>=0.23.0->openai) (1.0.9)\n",
            "Requirement already satisfied: h11>=0.16 in /usr/local/lib/python3.11/dist-packages (from httpcore==1.*->httpx<1,>=0.23.0->openai) (0.16.0)\n",
            "Requirement already satisfied: annotated-types>=0.6.0 in /usr/local/lib/python3.11/dist-packages (from pydantic<3,>=1.9.0->openai) (0.7.0)\n",
            "Requirement already satisfied: pydantic-core==2.33.2 in /usr/local/lib/python3.11/dist-packages (from pydantic<3,>=1.9.0->openai) (2.33.2)\n",
            "Requirement already satisfied: typing-inspection>=0.4.0 in /usr/local/lib/python3.11/dist-packages (from pydantic<3,>=1.9.0->openai) (0.4.1)\n",
            "Requirement already satisfied: six>=1.5 in /usr/local/lib/python3.11/dist-packages (from python-dateutil>=2.8.2->pandas) (1.17.0)\n"
          ]
        }
      ],
      "source": [
        "!pip install pandas openai"
      ]
    },
    {
      "cell_type": "code",
      "source": [
        "import pandas as pd\n",
        "\n",
        "df = pd.read_csv(\"customer_profiles.csv\")\n",
        "\n",
        "def credit_risk_score(row):\n",
        "    score = 0.4 * row['credit_score'] + 0.3 * (row['income'] / 1000) - 0.2 * (row['debt'] / 1000)\n",
        "    if score >= 400:\n",
        "        return \"Approve\"\n",
        "    elif score >= 300:\n",
        "        return \"Request Docs\"\n",
        "    else:\n",
        "        return \"Reject\"\n",
        "\n",
        "\n",
        "df[\"decision\"] = df.apply(credit_risk_score, axis=1)\n",
        "\n",
        "print(df[[\"id\", \"credit_score\", \"income\", \"debt\", \"decision\"]])"
      ],
      "metadata": {
        "colab": {
          "base_uri": "https://localhost:8080/"
        },
        "id": "591PwJ8ERnIt",
        "outputId": "3e5155c6-3057-43a8-850c-5ca25f11b50e"
      },
      "execution_count": 3,
      "outputs": [
        {
          "output_type": "stream",
          "name": "stdout",
          "text": [
            "   id  credit_score  income   debt      decision\n",
            "0   1           720   60000   5000  Request Docs\n",
            "1   2           680   45000  15000        Reject\n",
            "2   3           800  100000  10000  Request Docs\n",
            "3   4           550   30000  20000        Reject\n",
            "4   5           700   70000   8000        Reject\n"
          ]
        }
      ]
    },
    {
      "cell_type": "code",
      "source": [
        "import openai\n",
        "from google.colab import userdata\n",
        "\n",
        "# Load securely\n",
        "openai.api_key = userdata.get('OPENAI_API_KEY')\n"
      ],
      "metadata": {
        "id": "yMHg_zmhToil"
      },
      "execution_count": 16,
      "outputs": []
    },
    {
      "cell_type": "code",
      "source": [
        "def explain_decision(row):\n",
        "    prompt = f\"\"\"\n",
        "    Customer Info:\n",
        "    - Age: {row['age']}\n",
        "    - Income: {row['income']}\n",
        "    - Credit Score: {row['credit_score']}\n",
        "    - Debt: {row['debt']}\n",
        "\n",
        "    Decision: {row['decision']}\n",
        "\n",
        "    Can you explain in 2 sentences why this decision was made?\n",
        "    \"\"\"\n",
        "    response = openai.chat.completions.create(\n",
        "        model=\"gpt-4\",                       # or \"gpt-4o-mini\" etc.\n",
        "        messages=[{\"role\": \"user\", \"content\": prompt}],\n",
        "        temperature=0.2\n",
        "    )\n",
        "    return response.choices[0].message.content\n",
        "\n",
        "# Test it:\n",
        "for _, row in df.iterrows():\n",
        "    print(row[\"id\"], explain_decision(row))"
      ],
      "metadata": {
        "colab": {
          "base_uri": "https://localhost:8080/"
        },
        "id": "9dnUABOCVXjT",
        "outputId": "d066a045-ea61-4ab8-d7d0-4b7afe23eecc"
      },
      "execution_count": 15,
      "outputs": [
        {
          "output_type": "stream",
          "name": "stdout",
          "text": [
            "1 The decision to request documents was likely made to verify the customer's provided information such as income and credit score. This is a standard procedure in financial institutions to ensure the accuracy of the data and assess the customer's creditworthiness.\n",
            "2 The decision to reject might be due to the customer's relatively low income and high debt, which could indicate a risk of default. Additionally, while the credit score is not poor, it is not high enough to offset the potential risk posed by the other factors.\n",
            "3 The decision to request documents was likely made to verify the customer's provided information such as income, credit score, and debt. This is a standard procedure in many financial transactions to ensure the accuracy of the data and assess the customer's creditworthiness.\n",
            "4 The decision to reject was likely made due to the customer's low credit score and high debt, indicating a potential risk in their ability to repay any additional loans or credit. Additionally, their income may not be sufficient to comfortably manage further debt repayments.\n",
            "5 The decision to reject could be due to the customer's existing debt of $8000, which may be considered high relative to their income. Additionally, while the credit score is not bad, it might not meet the lender's minimum requirement for loan approval.\n"
          ]
        }
      ]
    },
    {
      "cell_type": "code",
      "source": [
        "import time\n",
        "import pandas as pd\n",
        "import openai\n",
        "import os\n",
        "\n",
        "# — Stub/data‐fetching tools —\n",
        "def fetch_basic_profile(customer_id):\n",
        "    # In reality, call a DB/API. Here, we simulate with a dict.\n",
        "    profiles = {\n",
        "        1: {\"age\": 28, \"income\": 60000, \"credit_score\": 720, \"debt\": 5000},\n",
        "        2: {\"age\": 34, \"income\": 45000, \"credit_score\": 680},  # debt missing\n",
        "        3: {\"age\": 45, \"income\": 100000, \"credit_score\": 800, \"debt\": 10000},\n",
        "    }\n",
        "    return profiles.get(customer_id, {})\n",
        "\n",
        "def fetch_debt_info(customer_id):\n",
        "    # Simulate a secondary API call\n",
        "    return {\"debt\": 15000}\n",
        "\n",
        "# — Core scoring function (as before) —\n",
        "def credit_risk_score(data, bias=0):\n",
        "    score = (\n",
        "        bias\n",
        "      + 0.4 * data[\"credit_score\"]\n",
        "      + 0.3 * (data[\"income\"] / 1000)\n",
        "      - 0.2 * (data[\"debt\"]   / 1000)\n",
        "    )\n",
        "    if score >= 400:\n",
        "        return \"Approve\"\n",
        "    elif score >= 300:\n",
        "        return \"Request Docs\"\n",
        "    else:\n",
        "        return \"Reject\"\n",
        "\n",
        "# — LLM explanation function —\n",
        "def llm_explain(data, decision):\n",
        "    prompt = f\"\"\"\n",
        "    Given customer data {data}, the system decided to {decision}.\n",
        "    Explain in two sentences why.\n",
        "    \"\"\"\n",
        "    resp = openai.chat.completions.create(\n",
        "        model=\"gpt-4\",\n",
        "        messages=[{\"role\":\"user\",\"content\":prompt}],\n",
        "        temperature=0.2\n",
        "    )\n",
        "    return resp.choices[0].message.content.strip()\n",
        "\n",
        "# — The Agentic Loop —\n",
        "def credit_agent(customer_id, max_steps=3):\n",
        "    data = fetch_basic_profile(customer_id)\n",
        "    steps = 0\n",
        "\n",
        "    # 1) Loop until all required fields present or we hit max_steps\n",
        "    while any(k not in data for k in [\"age\",\"income\",\"credit_score\",\"debt\"]) and steps < max_steps:\n",
        "        missing = [k for k in (\"age\",\"income\",\"credit_score\",\"debt\") if k not in data]\n",
        "        print(f\"[Agent] Missing fields: {missing}\")\n",
        "\n",
        "        # 2) Choose which tool to call based on what’s missing\n",
        "        if \"debt\" in missing:\n",
        "            print(\"[Agent] Fetching debt info...\")\n",
        "            data.update(fetch_debt_info(customer_id))\n",
        "        else:\n",
        "            print(\"[Agent] No specialized tool for missing fields—proceeding with what we have.\")\n",
        "            break\n",
        "\n",
        "        steps += 1\n",
        "        time.sleep(0.5)  # simulate latency\n",
        "\n",
        "    # 3) Score & decide\n",
        "    decision = credit_risk_score(data)\n",
        "    print(f\"[Agent] Final decision: {decision}\")\n",
        "\n",
        "    # 4) Explain via LLM\n",
        "    explanation = llm_explain(data, decision)\n",
        "    return {\"id\": customer_id, \"data\": data, \"decision\": decision, \"explanation\": explanation}\n",
        "\n",
        "# — Example Run —\n",
        "if __name__ == \"__main__\":\n",
        "    result = credit_agent(2)\n",
        "    print(\"\\nResult:\", result)\n"
      ],
      "metadata": {
        "colab": {
          "base_uri": "https://localhost:8080/"
        },
        "id": "z7QxI5S8gNfd",
        "outputId": "dc7ae420-6b55-4aea-d653-d34abb62411d"
      },
      "execution_count": 18,
      "outputs": [
        {
          "output_type": "stream",
          "name": "stdout",
          "text": [
            "[Agent] Missing fields: ['debt']\n",
            "[Agent] Fetching debt info...\n",
            "[Agent] Final decision: Reject\n",
            "\n",
            "Result: {'id': 2, 'data': {'age': 34, 'income': 45000, 'credit_score': 680, 'debt': 15000}, 'decision': 'Reject', 'explanation': \"The customer's income might not be sufficient to cover their existing debt and potential additional debt from a new loan. Additionally, their credit score is not high enough, indicating they may have had issues with repaying debts in the past.\"}\n"
          ]
        }
      ]
    }
  ]
}